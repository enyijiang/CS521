{
 "cells": [
  {
   "cell_type": "code",
   "execution_count": 1,
   "metadata": {},
   "outputs": [],
   "source": [
    "# the code is partially based on https://github.com/Zinoex/bound_propagation/blob/main/examples/fashion_mnist.py \n",
    "\n",
    "import torch\n",
    "import torch.nn as nn\n",
    "import torch.optim as optim\n",
    "import torch.nn.functional as F\n",
    "import numpy as np\n",
    "import time\n",
    "import matplotlib.pyplot as plt\n",
    "from tqdm import tqdm\n",
    "\n",
    "from torchvision import datasets, transforms\n",
    "# from tensorboardX import SummaryWriter\n",
    "\n",
    "use_cuda = True\n",
    "device = torch.device(\"mps\" if use_cuda else \"cpu\")\n",
    "batch_size = 64\n",
    "\n",
    "np.random.seed(42)\n",
    "torch.manual_seed(42)\n",
    "\n",
    "transform = transforms.Compose([\n",
    "        transforms.PILToTensor(),\n",
    "        transforms.ConvertImageDtype(torch.float),\n",
    "        transforms.Lambda(torch.flatten)\n",
    "    ])\n",
    "\n",
    "\n",
    "## Dataloaders\n",
    "train_dataset = datasets.MNIST('mnist_data/', train=True, download=True, transform=transform)\n",
    "test_dataset = datasets.MNIST('mnist_data/', train=False, download=True, transform=transform)\n",
    "\n",
    "train_loader = torch.utils.data.DataLoader(train_dataset, batch_size=batch_size, shuffle=True)\n",
    "test_loader = torch.utils.data.DataLoader(test_dataset, batch_size=batch_size, shuffle=False)"
   ]
  },
  {
   "cell_type": "code",
   "execution_count": 25,
   "metadata": {},
   "outputs": [],
   "source": [
    "from bound_propagation import BoundModelFactory, HyperRectangle\n",
    "\n",
    "# set up the network\n",
    "class Network(nn.Sequential):\n",
    "    def __init__(self):\n",
    "        in_size = 28*28\n",
    "        classes = 10\n",
    "\n",
    "        super().__init__(\n",
    "            nn.Linear(in_size, 50),\n",
    "            nn.ReLU(),\n",
    "            nn.Linear(50, 50),\n",
    "            nn.ReLU(),\n",
    "            nn.Linear(50, 50),\n",
    "            nn.ReLU(),\n",
    "            nn.Linear(50, classes)\n",
    "        )\n",
    "\n",
    "net = Network().to(device)\n",
    "\n",
    "factory = BoundModelFactory()\n",
    "net = factory.build(net)"
   ]
  },
  {
   "cell_type": "code",
   "execution_count": 3,
   "metadata": {},
   "outputs": [],
   "source": [
    "# train the network on clean data\n",
    "def clean_train(model, num_epochs):\n",
    "    learning_rate = 0.0001\n",
    "\n",
    "    opt = optim.Adam(params=net.parameters(), lr=learning_rate)\n",
    "\n",
    "    ce_loss = torch.nn.CrossEntropyLoss()\n",
    "\n",
    "    tot_steps = 0\n",
    "\n",
    "    for epoch in range(1,num_epochs+1):\n",
    "        t1 = time.time()\n",
    "\n",
    "        for _, (x_batch, y_batch) in enumerate(train_loader):\n",
    "            x_batch, y_batch = x_batch.to(device), y_batch.to(device)\n",
    "            tot_steps += 1\n",
    "            opt.zero_grad()\n",
    "            out = model(x_batch)\n",
    "            batch_loss = ce_loss(out, y_batch)\n",
    "            batch_loss.backward()\n",
    "            opt.step()\n",
    "    \n",
    "        tot_test, tot_acc = 0.0, 0.0\n",
    "        for _, (x_batch, y_batch) in enumerate(test_loader):\n",
    "            x_batch, y_batch = x_batch.to(device), y_batch.to(device)\n",
    "            out = model(x_batch)\n",
    "            pred = torch.max(out, dim=1)[1]\n",
    "            acc = pred.eq(y_batch).sum().item()\n",
    "            tot_acc += acc\n",
    "            tot_test += x_batch.size()[0]\n",
    "        t2 = time.time()\n",
    "\n",
    "        print('Epoch %d: Accuracy %.5lf [%.2lf seconds]' % (epoch, tot_acc/tot_test, t2-t1))"
   ]
  },
  {
   "cell_type": "code",
   "execution_count": 60,
   "metadata": {},
   "outputs": [
    {
     "name": "stdout",
     "output_type": "stream",
     "text": [
      "Epoch 1: Accuracy 0.86100 [8.93 seconds]\n",
      "Epoch 2: Accuracy 0.89270 [6.33 seconds]\n",
      "Epoch 3: Accuracy 0.90480 [6.19 seconds]\n",
      "Epoch 4: Accuracy 0.91400 [6.14 seconds]\n",
      "Epoch 5: Accuracy 0.92110 [6.11 seconds]\n",
      "Epoch 6: Accuracy 0.92520 [6.11 seconds]\n",
      "Epoch 7: Accuracy 0.92970 [6.11 seconds]\n",
      "Epoch 8: Accuracy 0.93560 [6.09 seconds]\n",
      "Epoch 9: Accuracy 0.93610 [6.21 seconds]\n",
      "Epoch 10: Accuracy 0.94140 [6.30 seconds]\n",
      "Epoch 11: Accuracy 0.94390 [6.04 seconds]\n",
      "Epoch 12: Accuracy 0.94560 [6.15 seconds]\n",
      "Epoch 13: Accuracy 0.94680 [6.11 seconds]\n",
      "Epoch 14: Accuracy 0.94980 [6.22 seconds]\n",
      "Epoch 15: Accuracy 0.95190 [6.31 seconds]\n",
      "Epoch 16: Accuracy 0.95280 [6.27 seconds]\n",
      "Epoch 17: Accuracy 0.95320 [6.11 seconds]\n",
      "Epoch 18: Accuracy 0.95410 [6.19 seconds]\n",
      "Epoch 19: Accuracy 0.95530 [6.13 seconds]\n",
      "Epoch 20: Accuracy 0.95810 [6.12 seconds]\n"
     ]
    }
   ],
   "source": [
    "clean_train(net, 20)\n",
    "torch.save(net.state_dict(), 'weights_clean.pt')"
   ]
  },
  {
   "cell_type": "markdown",
   "metadata": {},
   "source": [
    "### Interval Analysis"
   ]
  },
  {
   "cell_type": "code",
   "execution_count": 14,
   "metadata": {},
   "outputs": [],
   "source": [
    "# inputs: images, model, perturbation sizes\n",
    "# return: the robustness of the inputs\n",
    "def ibp_analysis(train_loader, net, eps):\n",
    "    with tqdm(train_loader, unit=\"batch\") as tepoch:\n",
    "        running_correct = 0\n",
    "        num_samples = 0\n",
    "        for i, (x, target) in enumerate(tepoch):\n",
    "            x, target = x.to(device), target.to(device)\n",
    "            input_bounds = HyperRectangle.from_eps(x, eps)\n",
    "            ibp_bounds = net.ibp(input_bounds)\n",
    "            lower, upper = ibp_bounds.lower, ibp_bounds.upper\n",
    "\n",
    "            # expand the classes with the same size of bounds [batch_size, 10]\n",
    "            classes = torch.arange(10, device=device).unsqueeze(0).expand(len(target), -1)\n",
    "            # get mask with 1 of the correct class and 0 rest of them\n",
    "            mask = (classes == target.unsqueeze(-1)).to(dtype=lower.dtype)\n",
    "\n",
    "            upper_sel = (upper * (1-mask)).max(dim=-1)[0] # get the higest upper bounds for wrong classes\n",
    "            lower_sel = lower[classes == target.unsqueeze(-1)] \n",
    "\n",
    "            running_correct += (lower_sel > upper_sel).cpu().float().sum().item()\n",
    "            num_samples += len(x)\n",
    "    \n",
    "    print(f\"Robustness: {running_correct / num_samples} with eps {eps}\")"
   ]
  },
  {
   "cell_type": "code",
   "execution_count": 31,
   "metadata": {},
   "outputs": [
    {
     "name": "stdout",
     "output_type": "stream",
     "text": [
      "\n",
      "[TEST]\n",
      "Accuracy: 0.958\n"
     ]
    },
    {
     "name": "stderr",
     "output_type": "stream",
     "text": [
      "100%|██████████| 157/157 [00:02<00:00, 73.40batch/s]\n"
     ]
    },
    {
     "name": "stdout",
     "output_type": "stream",
     "text": [
      "Robustness: 0.0 with eps 0.01\n"
     ]
    },
    {
     "name": "stderr",
     "output_type": "stream",
     "text": [
      "100%|██████████| 157/157 [00:02<00:00, 75.24batch/s]\n"
     ]
    },
    {
     "name": "stdout",
     "output_type": "stream",
     "text": [
      "Robustness: 0.0 with eps 0.020000000000000004\n"
     ]
    },
    {
     "name": "stderr",
     "output_type": "stream",
     "text": [
      "100%|██████████| 157/157 [00:02<00:00, 76.81batch/s]\n"
     ]
    },
    {
     "name": "stdout",
     "output_type": "stream",
     "text": [
      "Robustness: 0.0 with eps 0.030000000000000006\n"
     ]
    },
    {
     "name": "stderr",
     "output_type": "stream",
     "text": [
      "100%|██████████| 157/157 [00:02<00:00, 68.17batch/s]\n"
     ]
    },
    {
     "name": "stdout",
     "output_type": "stream",
     "text": [
      "Robustness: 0.0 with eps 0.04000000000000001\n"
     ]
    },
    {
     "name": "stderr",
     "output_type": "stream",
     "text": [
      "100%|██████████| 157/157 [00:02<00:00, 70.58batch/s]\n"
     ]
    },
    {
     "name": "stdout",
     "output_type": "stream",
     "text": [
      "Robustness: 0.0 with eps 0.05000000000000001\n"
     ]
    },
    {
     "name": "stderr",
     "output_type": "stream",
     "text": [
      "100%|██████████| 157/157 [00:02<00:00, 69.95batch/s]\n"
     ]
    },
    {
     "name": "stdout",
     "output_type": "stream",
     "text": [
      "Robustness: 0.0 with eps 0.06000000000000001\n"
     ]
    },
    {
     "name": "stderr",
     "output_type": "stream",
     "text": [
      "100%|██████████| 157/157 [00:01<00:00, 78.94batch/s]\n"
     ]
    },
    {
     "name": "stdout",
     "output_type": "stream",
     "text": [
      "Robustness: 0.0 with eps 0.07\n"
     ]
    },
    {
     "name": "stderr",
     "output_type": "stream",
     "text": [
      "100%|██████████| 157/157 [00:02<00:00, 74.23batch/s]\n"
     ]
    },
    {
     "name": "stdout",
     "output_type": "stream",
     "text": [
      "Robustness: 0.0 with eps 0.08\n"
     ]
    },
    {
     "name": "stderr",
     "output_type": "stream",
     "text": [
      "100%|██████████| 157/157 [00:01<00:00, 78.72batch/s]\n"
     ]
    },
    {
     "name": "stdout",
     "output_type": "stream",
     "text": [
      "Robustness: 0.0 with eps 0.09000000000000001\n"
     ]
    },
    {
     "name": "stderr",
     "output_type": "stream",
     "text": [
      "100%|██████████| 157/157 [00:01<00:00, 78.83batch/s]"
     ]
    },
    {
     "name": "stdout",
     "output_type": "stream",
     "text": [
      "Robustness: 0.0 with eps 0.1\n"
     ]
    },
    {
     "name": "stderr",
     "output_type": "stream",
     "text": [
      "\n"
     ]
    }
   ],
   "source": [
    "eps =np.linspace(0.01, 0.1, 10)\n",
    "net.load_state_dict(torch.load('weights_clean.pt'))\n",
    "test_clean(net, test_loader)\n",
    "for ep in eps:\n",
    "    ibp_analysis(test_loader, net, ep)"
   ]
  },
  {
   "cell_type": "markdown",
   "metadata": {},
   "source": [
    "### Robust Training"
   ]
  },
  {
   "cell_type": "code",
   "execution_count": 43,
   "metadata": {},
   "outputs": [],
   "source": [
    "def adversarial_logit(y_hat, y):\n",
    "    batch_size = y.size(0)\n",
    "    classes = torch.arange(10, device=y.device).unsqueeze(0).expand(batch_size, -1)\n",
    "    mask = (classes == y.unsqueeze(-1)).to(dtype=y_hat.lower.dtype)\n",
    "\n",
    "    # Take upper bound for logit of all but the correct class where you take the lower bound\n",
    "    adversarial_logit = (1 - mask) * y_hat.upper + mask * y_hat.lower\n",
    "\n",
    "    return adversarial_logit\n",
    "\n",
    "def robust_training(train_loader, net, eps, num_epoch):\n",
    "    criterion = torch.nn.CrossEntropyLoss().to(device)\n",
    "    k = 1.0\n",
    "    for _ in range(num_epoch):\n",
    "        running_loss = 0.0\n",
    "        running_cross_entropy = 0.0\n",
    "        with tqdm(train_loader, unit=\"batch\") as tepoch:\n",
    "            running_correct = 0\n",
    "            num_samples = 0\n",
    "            learning_rate = 5e-4\n",
    "\n",
    "            opt = optim.Adam(params=net.parameters(), lr=learning_rate)\n",
    "\n",
    "            # ce_loss = torch.nn.CrossEntropyLoss()\n",
    "            for i, (x, target) in enumerate(tepoch):\n",
    "                x, target = x.to(device), target.to(device)\n",
    "\n",
    "                opt.zero_grad()\n",
    "\n",
    "                y_hat = net(x)\n",
    "                cross_entropy = criterion(y_hat, target)\n",
    "\n",
    "\n",
    "                input_bounds = HyperRectangle.from_eps(x, eps)\n",
    "                ibp_bounds = net.ibp(input_bounds)\n",
    "\n",
    "                logit = adversarial_logit(ibp_bounds, target)\n",
    "\n",
    "                loss = k * cross_entropy + (1 - k) * criterion(logit, target)\n",
    "\n",
    "                # lower, upper = ibp_bounds.lower, ibp_bounds.upper\n",
    "\n",
    "                # # expand the classes with the same size of bounds [batch_size, 10]\n",
    "                # classes = torch.arange(10, device=device).unsqueeze(0).expand(len(target), -1)\n",
    "                # # get mask with 1 of the correct class and 0 rest of them\n",
    "                # mask = (classes == target.unsqueeze(-1)).to(dtype=lower.dtype)\n",
    "\n",
    "                # upper_sel = (upper * (1-mask)).max(dim=-1)[0] # get the higest upper bounds for wrong classes\n",
    "                # lower_sel = lower[classes == target.unsqueeze(-1)] \n",
    "\n",
    "                # loss = (upper_sel - lower_sel).mean()\n",
    "\n",
    "                loss.backward()\n",
    "                opt.step()\n",
    "\n",
    "                # running_correct += (lower_sel > upper_sel).cpu().float().sum().item()\n",
    "                # num_samples += len(x)\n",
    "                running_loss += loss.item()\n",
    "                running_cross_entropy += cross_entropy.item()\n",
    "\n",
    "                tepoch.set_postfix({'loss_all':running_loss / (i+1), 'loss_clean': running_cross_entropy / (i+1)})\n",
    "        \n",
    "        k = max(k - 0.1, 0.5)\n",
    "        # ibp_analysis(train_loader, net, eps)\n",
    "\n",
    "\n",
    "    # print(f\"Robustness: {running_correct / num_samples} with eps {eps}\")"
   ]
  },
  {
   "cell_type": "code",
   "execution_count": 44,
   "metadata": {},
   "outputs": [],
   "source": [
    "def test_clean(net, test_loader):\n",
    "    # print('')\n",
    "    # print('[TEST]')\n",
    "\n",
    "    correct = 0\n",
    "    num_samples = 0\n",
    "    for i, (X, y) in enumerate(test_loader):\n",
    "        X, y = X.to(device), y.to(device)\n",
    "\n",
    "        y_hat = net(X)\n",
    "\n",
    "        predicted = torch.argmax(y_hat, 1)\n",
    "        correct += (predicted == y).sum().item()\n",
    "\n",
    "        num_samples += len(y)\n",
    "\n",
    "    print(f'Accuracy: {correct / num_samples :.3f}')"
   ]
  },
  {
   "cell_type": "code",
   "execution_count": 45,
   "metadata": {},
   "outputs": [
    {
     "name": "stderr",
     "output_type": "stream",
     "text": [
      "100%|██████████| 938/938 [00:21<00:00, 43.22batch/s, loss_all=0.539, loss_clean=0.539]\n",
      "100%|██████████| 938/938 [00:21<00:00, 42.83batch/s, loss_all=0.555, loss_clean=0.316]\n",
      "100%|██████████| 938/938 [00:22<00:00, 42.42batch/s, loss_all=0.338, loss_clean=0.225]\n",
      "100%|██████████| 938/938 [00:22<00:00, 42.48batch/s, loss_all=0.295, loss_clean=0.186]\n",
      "100%|██████████| 938/938 [00:22<00:00, 42.53batch/s, loss_all=0.269, loss_clean=0.161]\n",
      "100%|██████████| 938/938 [00:22<00:00, 42.42batch/s, loss_all=0.253, loss_clean=0.146]\n",
      "100%|██████████| 938/938 [00:22<00:00, 42.33batch/s, loss_all=0.227, loss_clean=0.134]\n",
      "100%|██████████| 938/938 [00:22<00:00, 42.40batch/s, loss_all=0.208, loss_clean=0.123]\n",
      "100%|██████████| 938/938 [00:22<00:00, 42.38batch/s, loss_all=0.194, loss_clean=0.116]\n",
      "100%|██████████| 938/938 [00:22<00:00, 42.17batch/s, loss_all=0.183, loss_clean=0.109]\n",
      "100%|██████████| 938/938 [00:22<00:00, 42.21batch/s, loss_all=0.174, loss_clean=0.104] \n",
      "100%|██████████| 938/938 [00:22<00:00, 42.08batch/s, loss_all=0.166, loss_clean=0.099] \n",
      "100%|██████████| 938/938 [00:22<00:00, 42.63batch/s, loss_all=0.16, loss_clean=0.0946] \n",
      "100%|██████████| 938/938 [00:22<00:00, 42.13batch/s, loss_all=0.154, loss_clean=0.0912]\n",
      "100%|██████████| 938/938 [00:22<00:00, 42.10batch/s, loss_all=0.148, loss_clean=0.0869]\n",
      "100%|██████████| 938/938 [00:21<00:00, 42.96batch/s, loss_all=0.143, loss_clean=0.084] \n",
      "100%|██████████| 938/938 [00:21<00:00, 43.03batch/s, loss_all=0.139, loss_clean=0.0816]\n",
      "100%|██████████| 938/938 [00:21<00:00, 43.69batch/s, loss_all=0.135, loss_clean=0.0785]\n",
      "100%|██████████| 938/938 [00:20<00:00, 44.83batch/s, loss_all=0.131, loss_clean=0.076] \n",
      "100%|██████████| 938/938 [00:20<00:00, 44.88batch/s, loss_all=0.128, loss_clean=0.0737]\n"
     ]
    },
    {
     "name": "stdout",
     "output_type": "stream",
     "text": [
      "robustness:\n"
     ]
    },
    {
     "name": "stderr",
     "output_type": "stream",
     "text": [
      "100%|██████████| 157/157 [00:02<00:00, 78.31batch/s]\n"
     ]
    },
    {
     "name": "stdout",
     "output_type": "stream",
     "text": [
      "Robustness: 0.9223 with eps 0.01\n",
      "accuracy:\n",
      "Accuracy: 0.972\n"
     ]
    },
    {
     "name": "stderr",
     "output_type": "stream",
     "text": [
      "100%|██████████| 938/938 [00:20<00:00, 45.27batch/s, loss_all=0.543, loss_clean=0.543]\n",
      "100%|██████████| 938/938 [00:20<00:00, 45.08batch/s, loss_all=0.831, loss_clean=0.432]\n",
      "100%|██████████| 938/938 [00:20<00:00, 45.05batch/s, loss_all=0.442, loss_clean=0.276]\n",
      "100%|██████████| 938/938 [00:20<00:00, 45.02batch/s, loss_all=0.375, loss_clean=0.218]\n",
      "100%|██████████| 938/938 [00:20<00:00, 44.97batch/s, loss_all=0.347, loss_clean=0.189]\n",
      "100%|██████████| 938/938 [00:20<00:00, 45.02batch/s, loss_all=0.333, loss_clean=0.171]\n",
      "100%|██████████| 938/938 [00:20<00:00, 44.99batch/s, loss_all=0.298, loss_clean=0.155]\n",
      "100%|██████████| 938/938 [00:21<00:00, 44.26batch/s, loss_all=0.275, loss_clean=0.144]\n",
      "100%|██████████| 938/938 [00:21<00:00, 43.95batch/s, loss_all=0.259, loss_clean=0.136]\n",
      "100%|██████████| 938/938 [00:21<00:00, 44.25batch/s, loss_all=0.245, loss_clean=0.129]\n",
      "100%|██████████| 938/938 [00:20<00:00, 44.79batch/s, loss_all=0.234, loss_clean=0.123]\n",
      "100%|██████████| 938/938 [00:20<00:00, 44.77batch/s, loss_all=0.226, loss_clean=0.119]\n",
      "100%|██████████| 938/938 [00:20<00:00, 44.77batch/s, loss_all=0.218, loss_clean=0.114]\n",
      "100%|██████████| 938/938 [00:20<00:00, 44.80batch/s, loss_all=0.212, loss_clean=0.111]\n",
      "100%|██████████| 938/938 [00:20<00:00, 44.84batch/s, loss_all=0.207, loss_clean=0.109]\n",
      "100%|██████████| 938/938 [00:20<00:00, 44.90batch/s, loss_all=0.202, loss_clean=0.106]\n",
      "100%|██████████| 938/938 [00:20<00:00, 44.84batch/s, loss_all=0.197, loss_clean=0.103] \n",
      "100%|██████████| 938/938 [00:20<00:00, 44.99batch/s, loss_all=0.194, loss_clean=0.101] \n",
      "100%|██████████| 938/938 [00:20<00:00, 44.79batch/s, loss_all=0.191, loss_clean=0.0994]\n",
      "100%|██████████| 938/938 [00:20<00:00, 44.91batch/s, loss_all=0.187, loss_clean=0.0973]\n"
     ]
    },
    {
     "name": "stdout",
     "output_type": "stream",
     "text": [
      "robustness:\n"
     ]
    },
    {
     "name": "stderr",
     "output_type": "stream",
     "text": [
      "100%|██████████| 157/157 [00:01<00:00, 79.97batch/s]\n"
     ]
    },
    {
     "name": "stdout",
     "output_type": "stream",
     "text": [
      "Robustness: 0.9097 with eps 0.020000000000000004\n",
      "accuracy:\n",
      "Accuracy: 0.970\n"
     ]
    },
    {
     "name": "stderr",
     "output_type": "stream",
     "text": [
      "100%|██████████| 938/938 [00:20<00:00, 45.08batch/s, loss_all=0.556, loss_clean=0.556]\n",
      "100%|██████████| 938/938 [00:20<00:00, 44.95batch/s, loss_all=1.04, loss_clean=0.498]\n",
      "100%|██████████| 938/938 [00:20<00:00, 44.94batch/s, loss_all=0.504, loss_clean=0.299]\n",
      "100%|██████████| 938/938 [00:20<00:00, 45.04batch/s, loss_all=0.442, loss_clean=0.244]\n",
      "100%|██████████| 938/938 [00:20<00:00, 44.88batch/s, loss_all=0.423, loss_clean=0.218]\n",
      "100%|██████████| 938/938 [00:20<00:00, 44.96batch/s, loss_all=0.417, loss_clean=0.202]\n",
      "100%|██████████| 938/938 [00:20<00:00, 44.73batch/s, loss_all=0.38, loss_clean=0.188] \n",
      "100%|██████████| 938/938 [00:20<00:00, 44.98batch/s, loss_all=0.353, loss_clean=0.175]\n",
      "100%|██████████| 938/938 [00:20<00:00, 44.80batch/s, loss_all=0.333, loss_clean=0.167]\n",
      "100%|██████████| 938/938 [00:20<00:00, 44.87batch/s, loss_all=0.317, loss_clean=0.159]\n",
      "100%|██████████| 938/938 [00:20<00:00, 44.99batch/s, loss_all=0.305, loss_clean=0.153]\n",
      "100%|██████████| 938/938 [00:20<00:00, 44.72batch/s, loss_all=0.293, loss_clean=0.148]\n",
      "100%|██████████| 938/938 [00:20<00:00, 44.96batch/s, loss_all=0.285, loss_clean=0.145]\n",
      "100%|██████████| 938/938 [00:20<00:00, 44.76batch/s, loss_all=0.276, loss_clean=0.14] \n",
      "100%|██████████| 938/938 [00:20<00:00, 44.95batch/s, loss_all=0.27, loss_clean=0.136] \n",
      "100%|██████████| 938/938 [00:20<00:00, 44.78batch/s, loss_all=0.265, loss_clean=0.134]\n",
      "100%|██████████| 938/938 [00:20<00:00, 44.89batch/s, loss_all=0.26, loss_clean=0.131] \n",
      "100%|██████████| 938/938 [00:20<00:00, 44.72batch/s, loss_all=0.256, loss_clean=0.13] \n",
      "100%|██████████| 938/938 [00:20<00:00, 44.81batch/s, loss_all=0.253, loss_clean=0.128]\n",
      "100%|██████████| 938/938 [00:21<00:00, 44.58batch/s, loss_all=0.249, loss_clean=0.126]\n"
     ]
    },
    {
     "name": "stdout",
     "output_type": "stream",
     "text": [
      "robustness:\n"
     ]
    },
    {
     "name": "stderr",
     "output_type": "stream",
     "text": [
      "100%|██████████| 157/157 [00:02<00:00, 78.22batch/s]\n"
     ]
    },
    {
     "name": "stdout",
     "output_type": "stream",
     "text": [
      "Robustness: 0.8732 with eps 0.030000000000000006\n",
      "accuracy:\n",
      "Accuracy: 0.964\n"
     ]
    },
    {
     "name": "stderr",
     "output_type": "stream",
     "text": [
      "100%|██████████| 938/938 [00:20<00:00, 45.05batch/s, loss_all=0.545, loss_clean=0.545]\n",
      "100%|██████████| 938/938 [00:21<00:00, 43.36batch/s, loss_all=1.26, loss_clean=0.597]\n",
      "100%|██████████| 938/938 [00:22<00:00, 42.48batch/s, loss_all=0.604, loss_clean=0.347]\n",
      "100%|██████████| 938/938 [00:22<00:00, 42.60batch/s, loss_all=0.54, loss_clean=0.284] \n",
      "100%|██████████| 938/938 [21:17<00:00,  1.36s/batch, loss_all=0.528, loss_clean=0.259]  \n",
      "100%|██████████| 938/938 [16:36<00:00,  1.06s/batch, loss_all=0.527, loss_clean=0.245]  \n",
      "100%|██████████| 938/938 [00:41<00:00, 22.72batch/s, loss_all=0.485, loss_clean=0.228]\n",
      "100%|██████████| 938/938 [00:49<00:00, 19.02batch/s, loss_all=0.455, loss_clean=0.215]\n",
      "100%|██████████| 938/938 [00:22<00:00, 42.02batch/s, loss_all=0.431, loss_clean=0.204]\n",
      "100%|██████████| 938/938 [00:22<00:00, 42.01batch/s, loss_all=0.411, loss_clean=0.195]\n",
      "100%|██████████| 938/938 [00:22<00:00, 42.43batch/s, loss_all=0.396, loss_clean=0.189]\n",
      "100%|██████████| 938/938 [00:22<00:00, 42.49batch/s, loss_all=0.385, loss_clean=0.183]\n",
      "100%|██████████| 938/938 [00:21<00:00, 43.26batch/s, loss_all=0.376, loss_clean=0.179]\n",
      "100%|██████████| 938/938 [00:21<00:00, 44.28batch/s, loss_all=0.367, loss_clean=0.176]\n",
      "100%|██████████| 938/938 [00:22<00:00, 42.28batch/s, loss_all=0.359, loss_clean=0.173]\n",
      "100%|██████████| 938/938 [00:22<00:00, 41.57batch/s, loss_all=0.352, loss_clean=0.169]\n",
      "100%|██████████| 938/938 [00:22<00:00, 42.08batch/s, loss_all=0.346, loss_clean=0.166]\n",
      "100%|██████████| 938/938 [00:21<00:00, 43.46batch/s, loss_all=0.341, loss_clean=0.164]\n",
      "100%|██████████| 938/938 [00:21<00:00, 43.31batch/s, loss_all=0.335, loss_clean=0.162]\n",
      "100%|██████████| 938/938 [00:21<00:00, 44.11batch/s, loss_all=0.332, loss_clean=0.16] \n"
     ]
    },
    {
     "name": "stdout",
     "output_type": "stream",
     "text": [
      "robustness:\n"
     ]
    },
    {
     "name": "stderr",
     "output_type": "stream",
     "text": [
      "100%|██████████| 157/157 [00:02<00:00, 77.89batch/s]\n"
     ]
    },
    {
     "name": "stdout",
     "output_type": "stream",
     "text": [
      "Robustness: 0.8617 with eps 0.04000000000000001\n",
      "accuracy:\n",
      "Accuracy: 0.956\n"
     ]
    },
    {
     "name": "stderr",
     "output_type": "stream",
     "text": [
      "100%|██████████| 938/938 [00:21<00:00, 44.48batch/s, loss_all=0.537, loss_clean=0.537]\n",
      "100%|██████████| 938/938 [00:21<00:00, 44.46batch/s, loss_all=1.4, loss_clean=0.65]  \n",
      "100%|██████████| 938/938 [00:21<00:00, 44.30batch/s, loss_all=0.693, loss_clean=0.386]\n",
      "100%|██████████| 938/938 [00:21<00:00, 44.35batch/s, loss_all=0.629, loss_clean=0.324]\n",
      "100%|██████████| 938/938 [00:21<00:00, 44.40batch/s, loss_all=0.62, loss_clean=0.295] \n",
      "100%|██████████| 938/938 [00:21<00:00, 44.52batch/s, loss_all=0.631, loss_clean=0.28] \n",
      "100%|██████████| 938/938 [00:21<00:00, 44.61batch/s, loss_all=0.591, loss_clean=0.267]\n",
      "100%|██████████| 938/938 [00:21<00:00, 44.38batch/s, loss_all=0.564, loss_clean=0.256]\n",
      "100%|██████████| 938/938 [00:22<00:00, 41.55batch/s, loss_all=0.545, loss_clean=0.248]\n",
      "100%|██████████| 938/938 [00:21<00:00, 44.31batch/s, loss_all=0.529, loss_clean=0.242]\n",
      "100%|██████████| 938/938 [00:21<00:00, 44.47batch/s, loss_all=0.515, loss_clean=0.237]\n",
      "100%|██████████| 938/938 [00:21<00:00, 43.35batch/s, loss_all=0.503, loss_clean=0.232]\n",
      "100%|██████████| 938/938 [00:21<00:00, 43.53batch/s, loss_all=0.494, loss_clean=0.228]\n",
      "100%|██████████| 938/938 [00:21<00:00, 43.42batch/s, loss_all=0.485, loss_clean=0.224]\n",
      "100%|██████████| 938/938 [00:21<00:00, 43.54batch/s, loss_all=0.477, loss_clean=0.222]\n",
      "100%|██████████| 938/938 [00:21<00:00, 43.64batch/s, loss_all=0.471, loss_clean=0.22] \n",
      "100%|██████████| 938/938 [00:21<00:00, 43.73batch/s, loss_all=0.465, loss_clean=0.217]\n",
      "100%|██████████| 938/938 [00:21<00:00, 42.80batch/s, loss_all=0.46, loss_clean=0.215] \n",
      "100%|██████████| 938/938 [00:21<00:00, 43.54batch/s, loss_all=0.454, loss_clean=0.213]\n",
      "100%|██████████| 938/938 [00:22<00:00, 42.51batch/s, loss_all=0.45, loss_clean=0.211] \n"
     ]
    },
    {
     "name": "stdout",
     "output_type": "stream",
     "text": [
      "robustness:\n"
     ]
    },
    {
     "name": "stderr",
     "output_type": "stream",
     "text": [
      "100%|██████████| 157/157 [00:02<00:00, 64.72batch/s]\n"
     ]
    },
    {
     "name": "stdout",
     "output_type": "stream",
     "text": [
      "Robustness: 0.8135 with eps 0.05000000000000001\n",
      "accuracy:\n",
      "Accuracy: 0.942\n"
     ]
    },
    {
     "name": "stderr",
     "output_type": "stream",
     "text": [
      "100%|██████████| 938/938 [00:22<00:00, 42.06batch/s, loss_all=0.558, loss_clean=0.558]\n",
      "100%|██████████| 938/938 [00:22<00:00, 42.11batch/s, loss_all=1.62, loss_clean=0.729]\n",
      "100%|██████████| 938/938 [00:22<00:00, 42.32batch/s, loss_all=0.808, loss_clean=0.458]\n",
      "100%|██████████| 938/938 [00:21<00:00, 43.84batch/s, loss_all=0.74, loss_clean=0.384] \n",
      "100%|██████████| 938/938 [00:21<00:00, 44.15batch/s, loss_all=0.733, loss_clean=0.352]\n",
      "100%|██████████| 938/938 [00:21<00:00, 43.91batch/s, loss_all=0.739, loss_clean=0.334]\n",
      "100%|██████████| 938/938 [00:21<00:00, 43.88batch/s, loss_all=0.682, loss_clean=0.314]\n",
      "100%|██████████| 938/938 [00:21<00:00, 44.02batch/s, loss_all=0.646, loss_clean=0.301]\n",
      "100%|██████████| 938/938 [00:21<00:00, 43.26batch/s, loss_all=0.619, loss_clean=0.29] \n",
      "100%|██████████| 938/938 [00:21<00:00, 44.17batch/s, loss_all=0.598, loss_clean=0.283]\n",
      "100%|██████████| 938/938 [00:21<00:00, 44.28batch/s, loss_all=0.581, loss_clean=0.276]\n",
      "100%|██████████| 938/938 [00:21<00:00, 44.25batch/s, loss_all=0.567, loss_clean=0.271]\n",
      "100%|██████████| 938/938 [00:21<00:00, 44.05batch/s, loss_all=0.554, loss_clean=0.266]\n",
      "100%|██████████| 938/938 [00:21<00:00, 43.97batch/s, loss_all=0.545, loss_clean=0.263]\n",
      "100%|██████████| 938/938 [00:21<00:00, 44.20batch/s, loss_all=0.535, loss_clean=0.258]\n",
      "100%|██████████| 938/938 [00:22<00:00, 42.36batch/s, loss_all=0.527, loss_clean=0.254]\n",
      "100%|██████████| 938/938 [00:22<00:00, 41.85batch/s, loss_all=0.519, loss_clean=0.251]\n",
      "100%|██████████| 938/938 [00:21<00:00, 42.97batch/s, loss_all=0.513, loss_clean=0.249]\n",
      "100%|██████████| 938/938 [00:21<00:00, 44.30batch/s, loss_all=0.506, loss_clean=0.246]\n",
      "100%|██████████| 938/938 [00:21<00:00, 44.35batch/s, loss_all=0.501, loss_clean=0.243]\n"
     ]
    },
    {
     "name": "stdout",
     "output_type": "stream",
     "text": [
      "robustness:\n"
     ]
    },
    {
     "name": "stderr",
     "output_type": "stream",
     "text": [
      "100%|██████████| 157/157 [00:02<00:00, 77.74batch/s]\n"
     ]
    },
    {
     "name": "stdout",
     "output_type": "stream",
     "text": [
      "Robustness: 0.7981 with eps 0.06000000000000001\n",
      "accuracy:\n",
      "Accuracy: 0.935\n"
     ]
    },
    {
     "name": "stderr",
     "output_type": "stream",
     "text": [
      "100%|██████████| 938/938 [00:21<00:00, 44.42batch/s, loss_all=0.567, loss_clean=0.567]\n",
      "100%|██████████| 938/938 [00:21<00:00, 44.07batch/s, loss_all=1.78, loss_clean=0.847]\n",
      "100%|██████████| 938/938 [00:21<00:00, 44.35batch/s, loss_all=0.901, loss_clean=0.515]\n",
      "100%|██████████| 938/938 [00:21<00:00, 44.02batch/s, loss_all=0.819, loss_clean=0.422]\n",
      "100%|██████████| 938/938 [00:21<00:00, 44.12batch/s, loss_all=0.817, loss_clean=0.393]\n",
      "100%|██████████| 938/938 [00:21<00:00, 44.30batch/s, loss_all=0.835, loss_clean=0.382]\n",
      "100%|██████████| 938/938 [00:21<00:00, 43.16batch/s, loss_all=0.78, loss_clean=0.365] \n",
      "100%|██████████| 938/938 [00:21<00:00, 44.25batch/s, loss_all=0.743, loss_clean=0.353]\n",
      "100%|██████████| 938/938 [00:22<00:00, 41.30batch/s, loss_all=0.717, loss_clean=0.344]\n",
      "100%|██████████| 938/938 [00:21<00:00, 43.75batch/s, loss_all=0.697, loss_clean=0.336]\n",
      "100%|██████████| 938/938 [00:21<00:00, 43.60batch/s, loss_all=0.681, loss_clean=0.331]\n",
      "100%|██████████| 938/938 [00:21<00:00, 43.72batch/s, loss_all=0.668, loss_clean=0.326]\n",
      "100%|██████████| 938/938 [00:22<00:00, 42.59batch/s, loss_all=0.658, loss_clean=0.323]\n",
      "100%|██████████| 938/938 [00:21<00:00, 44.08batch/s, loss_all=0.648, loss_clean=0.319]\n",
      "100%|██████████| 938/938 [00:21<00:00, 43.86batch/s, loss_all=0.64, loss_clean=0.316] \n",
      "100%|██████████| 938/938 [00:21<00:00, 43.95batch/s, loss_all=0.632, loss_clean=0.314]\n",
      "100%|██████████| 938/938 [00:21<00:00, 43.39batch/s, loss_all=0.625, loss_clean=0.312]\n",
      "100%|██████████| 938/938 [00:21<00:00, 43.54batch/s, loss_all=0.618, loss_clean=0.31] \n",
      "100%|██████████| 938/938 [00:21<00:00, 43.88batch/s, loss_all=0.613, loss_clean=0.308]\n",
      "100%|██████████| 938/938 [00:21<00:00, 44.04batch/s, loss_all=0.608, loss_clean=0.306]\n"
     ]
    },
    {
     "name": "stdout",
     "output_type": "stream",
     "text": [
      "robustness:\n"
     ]
    },
    {
     "name": "stderr",
     "output_type": "stream",
     "text": [
      "100%|██████████| 157/157 [00:02<00:00, 77.42batch/s]\n"
     ]
    },
    {
     "name": "stdout",
     "output_type": "stream",
     "text": [
      "Robustness: 0.7297 with eps 0.07\n",
      "accuracy:\n",
      "Accuracy: 0.914\n"
     ]
    },
    {
     "name": "stderr",
     "output_type": "stream",
     "text": [
      "100%|██████████| 938/938 [00:21<00:00, 44.41batch/s, loss_all=0.549, loss_clean=0.549]\n",
      "100%|██████████| 938/938 [00:21<00:00, 44.28batch/s, loss_all=1.98, loss_clean=0.98] \n",
      "100%|██████████| 938/938 [00:21<00:00, 44.11batch/s, loss_all=1.04, loss_clean=0.633]\n",
      "100%|██████████| 938/938 [00:21<00:00, 43.57batch/s, loss_all=0.941, loss_clean=0.522]\n",
      "100%|██████████| 938/938 [00:21<00:00, 44.18batch/s, loss_all=0.933, loss_clean=0.479]\n",
      "100%|██████████| 938/938 [00:21<00:00, 42.69batch/s, loss_all=0.953, loss_clean=0.461]\n",
      "100%|██████████| 938/938 [00:21<00:00, 43.40batch/s, loss_all=0.899, loss_clean=0.439]\n",
      "100%|██████████| 938/938 [00:22<00:00, 41.86batch/s, loss_all=0.861, loss_clean=0.42] \n",
      "100%|██████████| 938/938 [00:21<00:00, 44.17batch/s, loss_all=0.831, loss_clean=0.404]\n",
      "100%|██████████| 938/938 [00:22<00:00, 41.79batch/s, loss_all=0.805, loss_clean=0.392]\n",
      "100%|██████████| 938/938 [00:22<00:00, 41.70batch/s, loss_all=0.782, loss_clean=0.382]\n",
      "100%|██████████| 938/938 [00:21<00:00, 42.96batch/s, loss_all=0.762, loss_clean=0.372]\n",
      "100%|██████████| 938/938 [00:21<00:00, 43.99batch/s, loss_all=0.746, loss_clean=0.364]\n",
      "100%|██████████| 938/938 [00:21<00:00, 43.98batch/s, loss_all=0.731, loss_clean=0.358]\n",
      "100%|██████████| 938/938 [00:22<00:00, 42.14batch/s, loss_all=0.72, loss_clean=0.353] \n",
      "100%|██████████| 938/938 [00:22<00:00, 42.19batch/s, loss_all=0.71, loss_clean=0.349] \n",
      "100%|██████████| 938/938 [00:21<00:00, 43.17batch/s, loss_all=0.701, loss_clean=0.345]\n",
      "100%|██████████| 938/938 [00:21<00:00, 43.22batch/s, loss_all=0.694, loss_clean=0.342]\n",
      "100%|██████████| 938/938 [00:21<00:00, 43.07batch/s, loss_all=0.686, loss_clean=0.339]\n",
      "100%|██████████| 938/938 [00:22<00:00, 41.66batch/s, loss_all=0.679, loss_clean=0.337]\n"
     ]
    },
    {
     "name": "stdout",
     "output_type": "stream",
     "text": [
      "robustness:\n"
     ]
    },
    {
     "name": "stderr",
     "output_type": "stream",
     "text": [
      "100%|██████████| 157/157 [00:02<00:00, 78.37batch/s]\n"
     ]
    },
    {
     "name": "stdout",
     "output_type": "stream",
     "text": [
      "Robustness: 0.7323 with eps 0.08\n",
      "accuracy:\n",
      "Accuracy: 0.912\n"
     ]
    },
    {
     "name": "stderr",
     "output_type": "stream",
     "text": [
      "100%|██████████| 938/938 [00:21<00:00, 44.26batch/s, loss_all=0.55, loss_clean=0.55]  \n",
      "100%|██████████| 938/938 [00:21<00:00, 44.22batch/s, loss_all=2.11, loss_clean=1.01] \n",
      "100%|██████████| 938/938 [00:21<00:00, 43.96batch/s, loss_all=1.1, loss_clean=0.69]  \n",
      "100%|██████████| 938/938 [00:21<00:00, 44.18batch/s, loss_all=1.05, loss_clean=0.607]\n",
      "100%|██████████| 938/938 [00:21<00:00, 44.15batch/s, loss_all=1.07, loss_clean=0.568]\n",
      "100%|██████████| 938/938 [00:21<00:00, 43.05batch/s, loss_all=1.12, loss_clean=0.564]\n",
      "100%|██████████| 938/938 [00:21<00:00, 43.20batch/s, loss_all=1.06, loss_clean=0.546]\n",
      "100%|██████████| 938/938 [00:21<00:00, 44.08batch/s, loss_all=1.01, loss_clean=0.527]\n",
      "100%|██████████| 938/938 [00:21<00:00, 44.02batch/s, loss_all=0.967, loss_clean=0.505]\n",
      "100%|██████████| 938/938 [00:21<00:00, 44.09batch/s, loss_all=0.926, loss_clean=0.478]\n",
      "100%|██████████| 938/938 [00:21<00:00, 43.97batch/s, loss_all=0.891, loss_clean=0.459]\n",
      "100%|██████████| 938/938 [00:21<00:00, 44.14batch/s, loss_all=0.866, loss_clean=0.449]\n",
      "100%|██████████| 938/938 [00:21<00:00, 44.10batch/s, loss_all=0.847, loss_clean=0.441]\n",
      "100%|██████████| 938/938 [00:21<00:00, 44.19batch/s, loss_all=0.832, loss_clean=0.435]\n",
      "100%|██████████| 938/938 [00:21<00:00, 44.10batch/s, loss_all=0.82, loss_clean=0.43]  \n",
      "100%|██████████| 938/938 [00:21<00:00, 44.20batch/s, loss_all=0.809, loss_clean=0.425]\n",
      "100%|██████████| 938/938 [00:21<00:00, 44.14batch/s, loss_all=0.798, loss_clean=0.422]\n",
      "100%|██████████| 938/938 [00:21<00:00, 43.82batch/s, loss_all=0.79, loss_clean=0.418] \n",
      "100%|██████████| 938/938 [00:21<00:00, 43.98batch/s, loss_all=0.782, loss_clean=0.415]\n",
      "100%|██████████| 938/938 [00:21<00:00, 44.02batch/s, loss_all=0.776, loss_clean=0.413]\n"
     ]
    },
    {
     "name": "stdout",
     "output_type": "stream",
     "text": [
      "robustness:\n"
     ]
    },
    {
     "name": "stderr",
     "output_type": "stream",
     "text": [
      "100%|██████████| 157/157 [00:02<00:00, 77.69batch/s]\n"
     ]
    },
    {
     "name": "stdout",
     "output_type": "stream",
     "text": [
      "Robustness: 0.6855 with eps 0.09000000000000001\n",
      "accuracy:\n",
      "Accuracy: 0.886\n"
     ]
    },
    {
     "name": "stderr",
     "output_type": "stream",
     "text": [
      "100%|██████████| 938/938 [00:21<00:00, 42.71batch/s, loss_all=0.557, loss_clean=0.557]\n",
      "100%|██████████| 938/938 [00:21<00:00, 42.80batch/s, loss_all=2.27, loss_clean=1.04] \n",
      "100%|██████████| 938/938 [00:21<00:00, 43.99batch/s, loss_all=1.15, loss_clean=0.689]\n",
      "100%|██████████| 938/938 [00:21<00:00, 44.21batch/s, loss_all=1.08, loss_clean=0.581]\n",
      "100%|██████████| 938/938 [00:21<00:00, 44.11batch/s, loss_all=1.1, loss_clean=0.545] \n",
      "100%|██████████| 938/938 [00:21<00:00, 44.15batch/s, loss_all=1.15, loss_clean=0.547]\n",
      "100%|██████████| 938/938 [00:21<00:00, 43.85batch/s, loss_all=1.1, loss_clean=0.532] \n",
      "100%|██████████| 938/938 [00:21<00:00, 44.07batch/s, loss_all=1.06, loss_clean=0.521]\n",
      "100%|██████████| 938/938 [00:21<00:00, 44.19batch/s, loss_all=1.03, loss_clean=0.509]\n",
      "100%|██████████| 938/938 [00:21<00:00, 44.21batch/s, loss_all=1.01, loss_clean=0.499]\n",
      "100%|██████████| 938/938 [00:21<00:00, 44.11batch/s, loss_all=0.983, loss_clean=0.491]\n",
      "100%|██████████| 938/938 [00:21<00:00, 44.11batch/s, loss_all=0.962, loss_clean=0.484]\n",
      "100%|██████████| 938/938 [00:21<00:00, 43.95batch/s, loss_all=0.943, loss_clean=0.479]\n",
      "100%|██████████| 938/938 [00:21<00:00, 44.06batch/s, loss_all=0.925, loss_clean=0.474]\n",
      "100%|██████████| 938/938 [00:21<00:00, 44.17batch/s, loss_all=0.909, loss_clean=0.47] \n",
      "100%|██████████| 938/938 [00:21<00:00, 44.03batch/s, loss_all=0.893, loss_clean=0.466]\n",
      "100%|██████████| 938/938 [00:21<00:00, 44.62batch/s, loss_all=0.876, loss_clean=0.463]\n",
      "100%|██████████| 938/938 [00:21<00:00, 44.66batch/s, loss_all=0.86, loss_clean=0.458] \n",
      "100%|██████████| 938/938 [00:21<00:00, 44.49batch/s, loss_all=0.846, loss_clean=0.455]\n",
      "100%|██████████| 938/938 [00:21<00:00, 44.35batch/s, loss_all=0.833, loss_clean=0.451]\n"
     ]
    },
    {
     "name": "stdout",
     "output_type": "stream",
     "text": [
      "robustness:\n"
     ]
    },
    {
     "name": "stderr",
     "output_type": "stream",
     "text": [
      "100%|██████████| 157/157 [00:02<00:00, 77.69batch/s]\n"
     ]
    },
    {
     "name": "stdout",
     "output_type": "stream",
     "text": [
      "Robustness: 0.6775 with eps 0.1\n",
      "accuracy:\n",
      "Accuracy: 0.874\n"
     ]
    }
   ],
   "source": [
    "eps =np.linspace(0.01, 0.1, 10)\n",
    "# net.load_state_dict(torch.load('weights_clean.pt'))\n",
    "for ep in eps:\n",
    "    net = Network().to(device)\n",
    "\n",
    "    factory = BoundModelFactory()\n",
    "    net = factory.build(net)\n",
    "\n",
    "    robust_training(train_loader, net, ep, 20)\n",
    "\n",
    "    # testing on robustness\n",
    "    print('robustness:')\n",
    "    ibp_analysis(test_loader, net, ep)\n",
    "\n",
    "    # testing on accuracy\n",
    "    print('accuracy:')\n",
    "    test_clean(net, test_loader)"
   ]
  }
 ],
 "metadata": {
  "kernelspec": {
   "display_name": "base",
   "language": "python",
   "name": "python3"
  },
  "language_info": {
   "codemirror_mode": {
    "name": "ipython",
    "version": 3
   },
   "file_extension": ".py",
   "mimetype": "text/x-python",
   "name": "python",
   "nbconvert_exporter": "python",
   "pygments_lexer": "ipython3",
   "version": "3.11.4"
  }
 },
 "nbformat": 4,
 "nbformat_minor": 2
}
