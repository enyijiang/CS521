{
  "cells": [
    {
      "cell_type": "markdown",
      "metadata": {
        "id": "Whsg1XX_OZs6"
      },
      "source": [
        "# Boilerplate\n",
        "\n",
        "Packae installation, loading, and dataloaders. There's also a simple model defined. You can change it your favourite architecture if you want."
      ]
    },
    {
      "cell_type": "code",
      "execution_count": 88,
      "metadata": {
        "id": "R1domTvnONqD"
      },
      "outputs": [
        {
          "data": {
            "text/plain": [
              "Sequential(\n",
              "  (0): Normalize()\n",
              "  (1): Net(\n",
              "    (fc): Linear(in_features=784, out_features=200, bias=True)\n",
              "    (fc2): Linear(in_features=200, out_features=10, bias=True)\n",
              "  )\n",
              ")"
            ]
          },
          "execution_count": 88,
          "metadata": {},
          "output_type": "execute_result"
        }
      ],
      "source": [
        "# !pip install tensorboardX\n",
        "\n",
        "import torch\n",
        "import torch.nn as nn\n",
        "import torch.optim as optim\n",
        "import torch.nn.functional as F\n",
        "import numpy as np\n",
        "import time\n",
        "import matplotlib.pyplot as plt\n",
        "\n",
        "from torchvision import datasets, transforms\n",
        "# from tensorboardX import SummaryWriter\n",
        "\n",
        "use_cuda = False\n",
        "device = torch.device(\"cuda\" if use_cuda else \"cpu\")\n",
        "batch_size = 64\n",
        "\n",
        "np.random.seed(42)\n",
        "torch.manual_seed(42)\n",
        "\n",
        "\n",
        "## Dataloaders\n",
        "train_dataset = datasets.MNIST('mnist_data/', train=True, download=True, transform=transforms.Compose(\n",
        "    [transforms.ToTensor()]\n",
        "))\n",
        "test_dataset = datasets.MNIST('mnist_data/', train=False, download=True, transform=transforms.Compose(\n",
        "    [transforms.ToTensor()]\n",
        "))\n",
        "\n",
        "train_loader = torch.utils.data.DataLoader(train_dataset, batch_size=batch_size, shuffle=True)\n",
        "test_loader = torch.utils.data.DataLoader(test_dataset, batch_size=batch_size, shuffle=False)\n",
        "\n",
        "## Simple NN. You can change this if you want.\n",
        "class Net(nn.Module):\n",
        "    def __init__(self):\n",
        "        super(Net, self).__init__()\n",
        "        self.fc = nn.Linear(28*28, 200)\n",
        "        self.fc2 = nn.Linear(200,10)\n",
        "\n",
        "    def forward(self, x):\n",
        "        x = x.view((-1, 28*28))\n",
        "        x = F.relu(self.fc(x))\n",
        "        x = self.fc2(x)\n",
        "        return x\n",
        "\n",
        "class Normalize(nn.Module):\n",
        "    def forward(self, x):\n",
        "        return (x - 0.1307)/0.3081\n",
        "\n",
        "# Add the data normalization as a first \"layer\" to the network\n",
        "# this allows us to search for adverserial examples to the real image, rather than\n",
        "# to the normalized image\n",
        "model = nn.Sequential(Normalize(), Net())\n",
        "\n",
        "model = model.to(device)\n",
        "model.train()"
      ]
    },
    {
      "cell_type": "markdown",
      "metadata": {
        "id": "NCmWfZHTO8Oo"
      },
      "source": [
        "# Implement the Attacks\n",
        "\n",
        "Functions are given a simple useful signature that you can start with. Feel free to extend the signature as you see fit.\n",
        "\n",
        "You may find it useful to create a 'batched' version of PGD that you can use to create the adversarial attack."
      ]
    },
    {
      "cell_type": "code",
      "execution_count": 98,
      "metadata": {
        "id": "EZjvA49yONqP"
      },
      "outputs": [],
      "source": [
        "# The last argument 'targeted' can be used to toggle between a targeted and untargeted attack.\n",
        "def fgsm(model, x, target, eps, targeted=True):\n",
        "    model.eval()\n",
        "    x.requires_grad_()\n",
        "    ce_loss = torch.nn.CrossEntropyLoss()\n",
        "    output = model(x)\n",
        "    if targeted:\n",
        "        target = 9 - target\n",
        "    loss = ce_loss(output, target)\n",
        "    loss.backward()\n",
        "    \n",
        "    if targeted:\n",
        "        adv_x = x - eps * x.grad.data.sign()\n",
        "    else:\n",
        "        adv_x = x + eps * x.grad.data.sign()\n",
        "        \n",
        "    # clamp it to [0, 1]\n",
        "    adv_x = torch.clamp(adv_x, 0.0, 1.0)\n",
        "    \n",
        "    return adv_x\n",
        "\n",
        "def pgd_untargeted(model, x, labels, k, eps, eps_step):\n",
        "    model.eval()\n",
        "    ce_loss = torch.nn.CrossEntropyLoss()\n",
        "    adv_x = x.clone().detach()\n",
        "    adv_x.requires_grad_(True) \n",
        "    for _ in range(k):\n",
        "        adv_x.requires_grad_(True)\n",
        "        model.zero_grad()\n",
        "        output = model(adv_x)\n",
        "        loss = ce_loss(output, labels)\n",
        "        loss.backward()\n",
        "        delta = eps_step * adv_x.grad.data.sign()\n",
        "        adv_x = adv_x + delta\n",
        "        adv_x = torch.min(torch.max(adv_x, x - eps), x + eps)\n",
        "        adv_x = torch.clamp(adv_x, 0.0, 1.0)\n",
        "        adv_x = adv_x.clone().detach()\n",
        "   \n",
        "    return adv_x"
      ]
    },
    {
      "cell_type": "markdown",
      "metadata": {
        "id": "0Mja_AB4RykO"
      },
      "source": [
        "# Implement Adversarial Training"
      ]
    },
    {
      "cell_type": "code",
      "execution_count": 90,
      "metadata": {
        "id": "V-sw8yKYONqQ"
      },
      "outputs": [],
      "source": [
        "def train_model(model, num_epochs, enable_defense=True, attack='fgsm', eps=0.1):\n",
        "    learning_rate = 0.0001\n",
        "\n",
        "    opt = optim.Adam(params=model.parameters(), lr=learning_rate)\n",
        "\n",
        "    ce_loss = torch.nn.CrossEntropyLoss()\n",
        "\n",
        "    tot_steps = 0\n",
        "\n",
        "    for epoch in range(1,num_epochs+1):\n",
        "        t1 = time.time()\n",
        "        for batch_idx, (x_batch, y_batch) in enumerate(train_loader):\n",
        "\n",
        "            if enable_defense:\n",
        "                x_batch, y_batch = x_batch.to(device), y_batch.to(device)\n",
        "                tot_steps += 1\n",
        "                opt.zero_grad()\n",
        "                if attack == 'fgsm':\n",
        "                    x_adv = fgsm(model, x_batch, y_batch, eps, False)\n",
        "                elif attack == 'pgd':\n",
        "                    x_adv = pgd_untargeted(model, x_batch, y_batch, 10, eps, eps/4.)\n",
        "                else:\n",
        "                    pass\n",
        "                out = model(x_adv)\n",
        "                batch_loss = ce_loss(out, y_batch)\n",
        "                batch_loss.backward()\n",
        "                opt.step()\n",
        "            else:\n",
        "                x_batch, y_batch = x_batch.to(device), y_batch.to(device)\n",
        "                tot_steps += 1\n",
        "                opt.zero_grad()\n",
        "                out = model(x_batch)\n",
        "                batch_loss = ce_loss(out, y_batch)\n",
        "                batch_loss.backward()\n",
        "                opt.step()\n",
        "\n",
        "        tot_test, tot_acc = 0.0, 0.0\n",
        "        for batch_idx, (x_batch, y_batch) in enumerate(test_loader):\n",
        "            x_batch, y_batch = x_batch.to(device), y_batch.to(device)\n",
        "            out = model(x_batch)\n",
        "            pred = torch.max(out, dim=1)[1]\n",
        "            acc = pred.eq(y_batch).sum().item()\n",
        "            tot_acc += acc\n",
        "            tot_test += x_batch.size()[0]\n",
        "        t2 = time.time()\n",
        "\n",
        "        print('Epoch %d: Accuracy %.5lf [%.2lf seconds]' % (epoch, tot_acc/tot_test, t2-t1))\n",
        "        \n",
        "        if enable_defense:\n",
        "            test_model_on_attacks(model, 'pgd')"
      ]
    },
    {
      "cell_type": "code",
      "execution_count": 96,
      "metadata": {},
      "outputs": [],
      "source": [
        "def test_model_on_attacks(model, attack='fgsm', eps=0.1):\n",
        "    model.eval()\n",
        "    tot_test, tot_acc = 0.0, 0.0\n",
        "    for batch_idx, (x_batch, y_batch) in enumerate(test_loader):\n",
        "        x_batch, y_batch = x_batch.to(device), y_batch.to(device)\n",
        "        if attack == 'fgsm':\n",
        "            x_adv = fgsm(model, x_batch, y_batch, eps, True)\n",
        "        elif attack == 'pgd':\n",
        "            x_adv = pgd_untargeted(model, x_batch, y_batch, 10, eps, eps/4.)\n",
        "        else:\n",
        "            pass\n",
        "        out = model(x_adv)\n",
        "        pred = torch.max(out, dim=1)[1]\n",
        "        acc = pred.eq(y_batch).sum().item()\n",
        "        tot_acc += acc\n",
        "        tot_test += x_batch.size()[0]\n",
        "        # if batch_idx == 22:\n",
        "        #     plt.imshow(x_batch[2].squeeze(0).detach().numpy())\n",
        "        #     plt.savefig(f'{attack}_original.png')\n",
        "        #     plt.imshow(x_adv[2].squeeze(0).detach().numpy())\n",
        "        #     plt.savefig(f'{attack}_{eps}_adv.png')\n",
        "            \n",
        "    print('Robust accuracy %.5lf' % (tot_acc/tot_test), f'on {attack} attack with eps = {eps}')"
      ]
    },
    {
      "cell_type": "markdown",
      "metadata": {
        "id": "ZPMdfEhtR3zm"
      },
      "source": [
        "# Study Accuracy, Quality, etc.\n",
        "\n",
        "Compare the various results and report your observations on the submission."
      ]
    },
    {
      "cell_type": "code",
      "execution_count": 35,
      "metadata": {},
      "outputs": [
        {
          "name": "stdout",
          "output_type": "stream",
          "text": [
            "Epoch 1: Accuracy 0.91920 [7.65 seconds]\n",
            "Epoch 2: Accuracy 0.93710 [6.85 seconds]\n",
            "Epoch 3: Accuracy 0.94660 [7.94 seconds]\n",
            "Epoch 4: Accuracy 0.95380 [7.22 seconds]\n",
            "Epoch 5: Accuracy 0.95910 [7.45 seconds]\n",
            "Epoch 6: Accuracy 0.96460 [8.08 seconds]\n",
            "Epoch 7: Accuracy 0.96750 [7.34 seconds]\n",
            "Epoch 8: Accuracy 0.96980 [7.45 seconds]\n",
            "Epoch 9: Accuracy 0.97110 [7.70 seconds]\n",
            "Epoch 10: Accuracy 0.97370 [7.26 seconds]\n",
            "Epoch 11: Accuracy 0.97430 [7.21 seconds]\n",
            "Epoch 12: Accuracy 0.97520 [7.79 seconds]\n",
            "Epoch 13: Accuracy 0.97700 [7.15 seconds]\n",
            "Epoch 14: Accuracy 0.97740 [7.25 seconds]\n",
            "Epoch 15: Accuracy 0.97700 [7.11 seconds]\n",
            "Epoch 16: Accuracy 0.97810 [6.96 seconds]\n",
            "Epoch 17: Accuracy 0.97840 [7.17 seconds]\n",
            "Epoch 18: Accuracy 0.97880 [6.73 seconds]\n",
            "Epoch 19: Accuracy 0.97940 [6.69 seconds]\n",
            "Epoch 20: Accuracy 0.97850 [8.86 seconds]\n"
          ]
        }
      ],
      "source": [
        "## train the original model\n",
        "train_model(model, 20, False)\n",
        "torch.save(model.state_dict(), 'weights.pt')"
      ]
    },
    {
      "cell_type": "code",
      "execution_count": 72,
      "metadata": {},
      "outputs": [
        {
          "name": "stdout",
          "output_type": "stream",
          "text": [
            "Robust accuracy 0.70700 on fgsm attack with radius = 0.05\n",
            "Robust accuracy 0.15580 on fgsm attack with radius = 0.1\n",
            "Robust accuracy 0.02030 on fgsm attack with radius = 0.15\n",
            "Robust accuracy 0.00370 on fgsm attack with radius = 0.2\n"
          ]
        },
        {
          "data": {
            "image/png": "[encoded data removed]",
            "text/plain": [
              "<Figure size 432x288 with 1 Axes>"
            ]
          },
          "metadata": {
            "needs_background": "light"
          },
          "output_type": "display_data"
        }
      ],
      "source": [
        "## FGSM attack - untargeted\n",
        "model = nn.Sequential(Normalize(), Net())\n",
        "model.load_state_dict(torch.load('weights.pt'))\n",
        "\n",
        "for eps in [0.05, 0.1, 0.15, 0.2]:\n",
        "    test_model_on_attacks(model, attack='fgsm', eps=eps)"
      ]
    },
    {
      "cell_type": "code",
      "execution_count": 99,
      "metadata": {},
      "outputs": [
        {
          "name": "stdout",
          "output_type": "stream",
          "text": [
            "Robust accuracy 0.86040 on fgsm attack with eps = 0.05\n",
            "Robust accuracy 0.42240 on fgsm attack with eps = 0.1\n",
            "Robust accuracy 0.10720 on fgsm attack with eps = 0.15\n",
            "Robust accuracy 0.01320 on fgsm attack with eps = 0.2\n"
          ]
        }
      ],
      "source": [
        "## FGSM attack - targeted\n",
        "model = nn.Sequential(Normalize(), Net())\n",
        "model.load_state_dict(torch.load('weights.pt'))\n",
        "\n",
        "for eps in [0.05, 0.1, 0.15, 0.2]:\n",
        "    test_model_on_attacks(model, attack='fgsm', eps=eps)"
      ]
    },
    {
      "cell_type": "code",
      "execution_count": 85,
      "metadata": {},
      "outputs": [
        {
          "name": "stdout",
          "output_type": "stream",
          "text": [
            "Robust accuracy 0.66720 on pgd attack with radius = 0.05\n",
            "Robust accuracy 0.10550 on pgd attack with radius = 0.1\n",
            "Robust accuracy 0.00650 on pgd attack with radius = 0.15\n",
            "Robust accuracy 0.00010 on pgd attack with radius = 0.2\n"
          ]
        },
        {
          "data": {
            "image/png": "[encoded data removed]",
            "text/plain": [
              "<Figure size 432x288 with 1 Axes>"
            ]
          },
          "metadata": {
            "needs_background": "light"
          },
          "output_type": "display_data"
        }
      ],
      "source": [
        "## PGD attack\n",
        "model = nn.Sequential(Normalize(), Net())\n",
        "model.load_state_dict(torch.load('weights.pt'))\n",
        "\n",
        "for eps in [0.05, 0.1, 0.15, 0.2]:\n",
        "    test_model_on_attacks(model, attack='pgd', eps=eps)"
      ]
    },
    {
      "cell_type": "code",
      "execution_count": 87,
      "metadata": {
        "id": "ufD-ccTFR8R2"
      },
      "outputs": [
        {
          "name": "stdout",
          "output_type": "stream",
          "text": [
            "Epoch 1: Accuracy 0.89960 [21.60 seconds]\n",
            "Epoch 2: Accuracy 0.92580 [22.35 seconds]\n",
            "Epoch 3: Accuracy 0.93840 [21.98 seconds]\n",
            "Epoch 4: Accuracy 0.94690 [27.85 seconds]\n",
            "Epoch 5: Accuracy 0.95380 [23.99 seconds]\n",
            "Epoch 6: Accuracy 0.95830 [23.35 seconds]\n",
            "Epoch 7: Accuracy 0.96090 [22.51 seconds]\n",
            "Epoch 8: Accuracy 0.96430 [22.07 seconds]\n",
            "Epoch 9: Accuracy 0.96610 [22.36 seconds]\n",
            "Epoch 10: Accuracy 0.96790 [23.55 seconds]\n",
            "Epoch 11: Accuracy 0.96890 [20.79 seconds]\n",
            "Epoch 12: Accuracy 0.97020 [20.93 seconds]\n",
            "Epoch 13: Accuracy 0.97150 [24.69 seconds]\n",
            "Epoch 14: Accuracy 0.97280 [23.57 seconds]\n",
            "Epoch 15: Accuracy 0.97260 [24.31 seconds]\n",
            "Epoch 16: Accuracy 0.97450 [23.54 seconds]\n",
            "Epoch 17: Accuracy 0.97530 [25.17 seconds]\n",
            "Epoch 18: Accuracy 0.97560 [24.21 seconds]\n",
            "Epoch 19: Accuracy 0.97630 [22.33 seconds]\n",
            "Epoch 20: Accuracy 0.97640 [22.45 seconds]\n"
          ]
        }
      ],
      "source": [
        "## PGD based adversarial training\n",
        "model = nn.Sequential(Normalize(), Net())\n",
        "eps = 0.1\n",
        "train_model(model, 20, True, 'pgd', eps)\n",
        "torch.save(model.state_dict(), f'weights_AT_{eps}.pt')"
      ]
    },
    {
      "cell_type": "code",
      "execution_count": 95,
      "metadata": {},
      "outputs": [
        {
          "name": "stdout",
          "output_type": "stream",
          "text": [
            "Robust accuracy 0.94440 on pgd attack with eps = 0.05\n",
            "Robust accuracy 0.87630 on pgd attack with eps = 0.1\n",
            "Robust accuracy 0.72020 on pgd attack with eps = 0.15\n",
            "Robust accuracy 0.40970 on pgd attack with eps = 0.2\n",
            "Robust accuracy 0.94580 on fgsm attack with eps = 0.05\n",
            "Robust accuracy 0.88760 on fgsm attack with eps = 0.1\n",
            "Robust accuracy 0.77610 on fgsm attack with eps = 0.15\n",
            "Robust accuracy 0.57550 on fgsm attack with eps = 0.2\n"
          ]
        }
      ],
      "source": [
        "## test AT based training model\n",
        "model = nn.Sequential(Normalize(), Net())\n",
        "model.load_state_dict(torch.load('weights_AT_0.1.pt'))\n",
        "\n",
        "for eps in [0.05, 0.1, 0.15, 0.2]:\n",
        "    test_model_on_attacks(model, attack='pgd', eps=eps)\n",
        "    \n",
        "for eps in [0.05, 0.1, 0.15, 0.2]:\n",
        "    test_model_on_attacks(model, attack='fgsm', eps=eps)"
      ]
    },
    {
      "cell_type": "code",
      "execution_count": 100,
      "metadata": {},
      "outputs": [
        {
          "name": "stdout",
          "output_type": "stream",
          "text": [
            "Robust accuracy 0.97110 on fgsm attack with eps = 0.05\n",
            "Robust accuracy 0.95140 on fgsm attack with eps = 0.1\n",
            "Robust accuracy 0.89750 on fgsm attack with eps = 0.15\n",
            "Robust accuracy 0.77920 on fgsm attack with eps = 0.2\n"
          ]
        }
      ],
      "source": [
        "## FGSM attack - targeted on AT\n",
        "model = nn.Sequential(Normalize(), Net())\n",
        "model.load_state_dict(torch.load('weights_AT_0.1.pt'))\n",
        "\n",
        "for eps in [0.05, 0.1, 0.15, 0.2]:\n",
        "    test_model_on_attacks(model, attack='fgsm', eps=eps)"
      ]
    }
  ],
  "metadata": {
    "colab": {
      "provenance": []
    },
    "kernelspec": {
      "display_name": "Python 3",
      "language": "python",
      "name": "python3"
    },
    "language_info": {
      "codemirror_mode": {
        "name": "ipython",
        "version": 3
      },
      "file_extension": ".py",
      "mimetype": "text/x-python",
      "name": "python",
      "nbconvert_exporter": "python",
      "pygments_lexer": "ipython3",
      "version": "3.7.7"
    }
  },
  "nbformat": 4,
  "nbformat_minor": 0
}
